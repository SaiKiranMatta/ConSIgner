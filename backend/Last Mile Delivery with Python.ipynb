{
 "cells": [
  {
   "cell_type": "code",
   "execution_count": null,
   "metadata": {
    "collapsed": true
   },
   "outputs": [],
   "source": [
    "# [START import]\n",
    "from ortools.constraint_solver import routing_enums_pb2\n",
    "from ortools.constraint_solver import pywrapcp\n",
    "import pandas as pd\n",
    "import numpy as np"
   ]
  },
  {
   "cell_type": "code",
   "execution_count": null,
   "metadata": {
    "collapsed": true
   },
   "outputs": [],
   "source": [
    "# Import Distance Matrix \n",
    "df_distance = pd.read_excel('df_distance_matrix.xlsx', index_col=0)\n",
    "\n",
    "# Transform to Numpy Array\n",
    "distance_matrix = df_distance.to_numpy()\n"
   ]
  },
  {
   "cell_type": "code",
   "execution_count": null,
   "metadata": {},
   "outputs": [],
   "source": [
    "distance_matrix"
   ]
  },
  {
   "cell_type": "code",
   "execution_count": 62,
   "metadata": {},
   "outputs": [
    {
     "name": "stdout",
     "output_type": "stream",
     "text": [
      "[[   0.         3935.75169089 1144.29285451 2281.34797079 3443.7024156\n",
      "  1880.30221207  129.61295056 2205.73026413 4129.09186839  327.58316611\n",
      "   854.59948037  306.10891703 1200.31845645 3865.53368969 1757.96365327\n",
      "   272.55242091]\n",
      " [3935.75169089    0.         2803.97537999 2206.26707578  574.26661957\n",
      "  2686.65910772 3843.4587094  1991.99034926  559.12134935 3692.00646227\n",
      "  3403.78348301 4169.61296312 3110.33752464 1545.30778985 3758.77464822\n",
      "  3725.23316128]\n",
      " [1144.29285451 2803.97537999    0.         1515.8072005  2336.34421504\n",
      "  1344.1606562  1068.00411385 1294.95706631 2984.91178672  955.18502221\n",
      "   945.48518534 1365.64137057  947.50795018 2788.8611148  1917.31254043\n",
      "   973.05953815]\n",
      " [2281.34797079 2206.26707578 1515.8072005     0.         1632.16913597\n",
      "   511.34869703 2156.27384557  361.77646429 2643.04950367 1961.09473241\n",
      "  1489.86408341 2581.33519002 1128.26521426 3040.5044903  1556.79664946\n",
      "  2012.65898183]\n",
      " [3443.7024156   574.26661957 2336.34421504 1632.16913597    0.\n",
      "  2113.39753984 3344.07528594 1423.53076756 1050.81756199 3182.59454914\n",
      "  2862.56877824 3693.71794137 2556.67974004 1793.58288127 3184.6486154\n",
      "  3219.41749174]\n",
      " [1880.30221207 2686.65910772 1344.1606562   511.34869703 2113.39753984\n",
      "     0.         1751.41308444  711.46546127 3093.54900665 1553.04789082\n",
      "  1044.05249467 2185.98740123  682.80877628 3377.74636327 1076.61227895\n",
      "  1607.75086294]\n",
      " [ 129.61295056 3843.4587094  1068.00411385 2156.27384557 3344.07528594\n",
      "  1751.41308444    0.         2087.98809103 4050.39400871  198.37259245\n",
      "   725.19901512  435.62748179 1070.97047988 3819.26016346 1645.54313811\n",
      "   144.15715193]\n",
      " [2205.73026413 1991.99034926 1294.95706631  361.77646429 1423.53076756\n",
      "   711.46546127 2087.98809103    0.         2383.24915937 1902.24916414\n",
      "  1493.97385281 2493.10422243 1158.09984687 2703.33038987 1786.64377622\n",
      "  1948.80726575]\n",
      " [4129.09186839  559.12134935 2984.91178672 2643.04950367 1050.81756199\n",
      "  3093.54900665 4050.39400871 2383.24915937    0.         3918.55077067\n",
      "  3696.51403157 4333.67119233 3436.89607423 1093.21527384 4169.7699714\n",
      "  3944.99189541]\n",
      " [ 327.58316611 3692.00646227  955.18502221 1961.09473241 3182.59454914\n",
      "  1553.04789082  198.37259245 1902.24916414 3918.55077067    0.\n",
      "   530.45012807  633.67236117  872.73545778 3736.2602274  1491.17862918\n",
      "    56.20271303]\n",
      " [ 854.59948037 3403.78348301  945.48518534 1489.86408341 2862.56877824\n",
      "  1044.05249467  725.19901512 1493.97385281 3696.51403157  530.45012807\n",
      "     0.         1159.61752717  364.0692227  3670.76514787 1054.34569294\n",
      "   586.6527108 ]\n",
      " [ 306.10891703 4169.61296312 1365.64137057 2581.33519002 3693.71794137\n",
      "  2185.98740123  435.62748179 2493.10422243 4333.67119233  633.67236117\n",
      "  1159.61752717    0.         1506.40015067 4000.07365826 2025.33963193\n",
      "   578.45092302]\n",
      " [1200.31845645 3110.33752464  947.50795018 1128.26521426 2556.67974004\n",
      "   682.80877628 1070.97047988 1158.09984687 3436.89607423  872.73545778\n",
      "   364.0692227  1506.40015067    0.         3505.68710418  975.8843717\n",
      "   928.03465972]\n",
      " [3865.53368969 1545.30778985 2788.8611148  3040.5044903  1793.58288127\n",
      "  3377.74636327 3819.26016346 2703.33038987 1093.21527384 3736.2602274\n",
      "  3670.76514787 4000.07365826 3505.68710418    0.         4396.10112508\n",
      "  3746.9117385 ]\n",
      " [1757.96365327 3758.77464822 1917.31254043 1556.79664946 3184.6486154\n",
      "  1076.61227895 1645.54313811 1786.64377622 4169.7699714  1491.17862918\n",
      "  1054.34569294 2025.33963193  975.8843717  4396.10112508    0.\n",
      "  1540.92363615]\n",
      " [ 272.55242091 3725.23316128  973.05953815 2012.65898183 3219.41749174\n",
      "  1607.75086294  144.15715193 1948.80726575 3944.99189541   56.20271303\n",
      "   586.6527108   578.45092302  928.03465972 3746.9117385  1540.92363615\n",
      "     0.        ]]\n"
     ]
    },
    {
     "data": {
      "text/plain": [
       "array([[   0.        , 3935.75169089, 1144.29285451, 2281.34797079,\n",
       "        3443.7024156 , 1880.30221207,  129.61295056, 2205.73026413,\n",
       "        4129.09186839,  327.58316611,  854.59948037,  306.10891703,\n",
       "        1200.31845645, 3865.53368969, 1757.96365327,  272.55242091],\n",
       "       [3935.75169089,    0.        , 2803.97537999, 2206.26707578,\n",
       "         574.26661957, 2686.65910772, 3843.4587094 , 1991.99034926,\n",
       "         559.12134935, 3692.00646227, 3403.78348301, 4169.61296312,\n",
       "        3110.33752464, 1545.30778985, 3758.77464822, 3725.23316128],\n",
       "       [1144.29285451, 2803.97537999,    0.        , 1515.8072005 ,\n",
       "        2336.34421504, 1344.1606562 , 1068.00411385, 1294.95706631,\n",
       "        2984.91178672,  955.18502221,  945.48518534, 1365.64137057,\n",
       "         947.50795018, 2788.8611148 , 1917.31254043,  973.05953815],\n",
       "       [2281.34797079, 2206.26707578, 1515.8072005 ,    0.        ,\n",
       "        1632.16913597,  511.34869703, 2156.27384557,  361.77646429,\n",
       "        2643.04950367, 1961.09473241, 1489.86408341, 2581.33519002,\n",
       "        1128.26521426, 3040.5044903 , 1556.79664946, 2012.65898183],\n",
       "       [3443.7024156 ,  574.26661957, 2336.34421504, 1632.16913597,\n",
       "           0.        , 2113.39753984, 3344.07528594, 1423.53076756,\n",
       "        1050.81756199, 3182.59454914, 2862.56877824, 3693.71794137,\n",
       "        2556.67974004, 1793.58288127, 3184.6486154 , 3219.41749174],\n",
       "       [1880.30221207, 2686.65910772, 1344.1606562 ,  511.34869703,\n",
       "        2113.39753984,    0.        , 1751.41308444,  711.46546127,\n",
       "        3093.54900665, 1553.04789082, 1044.05249467, 2185.98740123,\n",
       "         682.80877628, 3377.74636327, 1076.61227895, 1607.75086294],\n",
       "       [ 129.61295056, 3843.4587094 , 1068.00411385, 2156.27384557,\n",
       "        3344.07528594, 1751.41308444,    0.        , 2087.98809103,\n",
       "        4050.39400871,  198.37259245,  725.19901512,  435.62748179,\n",
       "        1070.97047988, 3819.26016346, 1645.54313811,  144.15715193],\n",
       "       [2205.73026413, 1991.99034926, 1294.95706631,  361.77646429,\n",
       "        1423.53076756,  711.46546127, 2087.98809103,    0.        ,\n",
       "        2383.24915937, 1902.24916414, 1493.97385281, 2493.10422243,\n",
       "        1158.09984687, 2703.33038987, 1786.64377622, 1948.80726575],\n",
       "       [4129.09186839,  559.12134935, 2984.91178672, 2643.04950367,\n",
       "        1050.81756199, 3093.54900665, 4050.39400871, 2383.24915937,\n",
       "           0.        , 3918.55077067, 3696.51403157, 4333.67119233,\n",
       "        3436.89607423, 1093.21527384, 4169.7699714 , 3944.99189541],\n",
       "       [ 327.58316611, 3692.00646227,  955.18502221, 1961.09473241,\n",
       "        3182.59454914, 1553.04789082,  198.37259245, 1902.24916414,\n",
       "        3918.55077067,    0.        ,  530.45012807,  633.67236117,\n",
       "         872.73545778, 3736.2602274 , 1491.17862918,   56.20271303],\n",
       "       [ 854.59948037, 3403.78348301,  945.48518534, 1489.86408341,\n",
       "        2862.56877824, 1044.05249467,  725.19901512, 1493.97385281,\n",
       "        3696.51403157,  530.45012807,    0.        , 1159.61752717,\n",
       "         364.0692227 , 3670.76514787, 1054.34569294,  586.6527108 ],\n",
       "       [ 306.10891703, 4169.61296312, 1365.64137057, 2581.33519002,\n",
       "        3693.71794137, 2185.98740123,  435.62748179, 2493.10422243,\n",
       "        4333.67119233,  633.67236117, 1159.61752717,    0.        ,\n",
       "        1506.40015067, 4000.07365826, 2025.33963193,  578.45092302],\n",
       "       [1200.31845645, 3110.33752464,  947.50795018, 1128.26521426,\n",
       "        2556.67974004,  682.80877628, 1070.97047988, 1158.09984687,\n",
       "        3436.89607423,  872.73545778,  364.0692227 , 1506.40015067,\n",
       "           0.        , 3505.68710418,  975.8843717 ,  928.03465972],\n",
       "       [3865.53368969, 1545.30778985, 2788.8611148 , 3040.5044903 ,\n",
       "        1793.58288127, 3377.74636327, 3819.26016346, 2703.33038987,\n",
       "        1093.21527384, 3736.2602274 , 3670.76514787, 4000.07365826,\n",
       "        3505.68710418,    0.        , 4396.10112508, 3746.9117385 ],\n",
       "       [1757.96365327, 3758.77464822, 1917.31254043, 1556.79664946,\n",
       "        3184.6486154 , 1076.61227895, 1645.54313811, 1786.64377622,\n",
       "        4169.7699714 , 1491.17862918, 1054.34569294, 2025.33963193,\n",
       "         975.8843717 , 4396.10112508,    0.        , 1540.92363615],\n",
       "       [ 272.55242091, 3725.23316128,  973.05953815, 2012.65898183,\n",
       "        3219.41749174, 1607.75086294,  144.15715193, 1948.80726575,\n",
       "        3944.99189541,   56.20271303,  586.6527108 ,  578.45092302,\n",
       "         928.03465972, 3746.9117385 , 1540.92363615,    0.        ]])"
      ]
     },
     "execution_count": 62,
     "metadata": {},
     "output_type": "execute_result"
    }
   ],
   "source": [
    "from haversine import haversine, Unit\n",
    "\n",
    "\n",
    "def create_distance_matrix(coordinates):\n",
    "    num_locations = len(coordinates)\n",
    "    distance_matrix = np.zeros((num_locations, num_locations))\n",
    "\n",
    "    for i in range(num_locations):\n",
    "        for j in range(num_locations):\n",
    "            distance_matrix[i][j] = round(haversine(\n",
    "                coordinates[i], coordinates[j], unit=Unit.KILOMETERS))\n",
    "\n",
    "    print(distance_matrix)\n",
    "\n",
    "    return distance_matrix\n",
    "\n",
    "            \n",
    "    \n",
    "\n",
    "\n",
    "\n",
    "\n",
    "\n",
    "# Example usage:\n",
    "# file_name = 'route-optimization\\df_distance_matrix.xlsx'\n",
    "coordinates = [\n",
    "    (40.7128, -74.0060),  # New York City\n",
    "    (34.0522, -118.2437),  # Los Angeles\n",
    "    (41.8781, -87.6298),   # Chicago\n",
    "    (29.7604, -95.3698),   # Houston\n",
    "    (33.4484, -112.0740),  # Phoenix\n",
    "    (29.9511, -90.0715),   # New Orleans\n",
    "    (39.9526, -75.1652),   # Philadelphia\n",
    "    (32.7767, -96.7970),   # Dallas\n",
    "    (37.7749, -122.4194),  # San Francisco\n",
    "    (38.9072, -77.0369),   # Washington D.C.\n",
    "    (35.2271, -80.8431),   # Charlotte\n",
    "    (42.3601, -71.0589),   # Boston\n",
    "    (33.7490, -84.3880),   # Atlanta\n",
    "    (47.6062, -122.3321),  # Seattle\n",
    "    (25.7617, -80.1918),   # Miami\n",
    "    (39.2904, -76.6122)    # Baltimore\n",
    "]\n",
    "\n",
    "create_distance_matrix(coordinates)"
   ]
  },
  {
   "cell_type": "code",
   "execution_count": 60,
   "metadata": {},
   "outputs": [
    {
     "ename": "NameError",
     "evalue": "name 'distance_matrix_1' is not defined",
     "output_type": "error",
     "traceback": [
      "\u001b[1;31m---------------------------------------------------------------------------\u001b[0m",
      "\u001b[1;31mNameError\u001b[0m                                 Traceback (most recent call last)",
      "Cell \u001b[1;32mIn[60], line 1\u001b[0m\n\u001b[1;32m----> 1\u001b[0m \u001b[43mdistance_matrix_1\u001b[49m\n",
      "\u001b[1;31mNameError\u001b[0m: name 'distance_matrix_1' is not defined"
     ]
    }
   ],
   "source": [
    "dis"
   ]
  },
  {
   "cell_type": "code",
   "execution_count": null,
   "metadata": {},
   "outputs": [],
   "source": [
    "# Create dictionnary with data\n",
    "data = {}\n",
    "data['distance_matrix'] = distance_matrix\n",
    "print(\"{:,} destinations\".format(len(data['distance_matrix'][0]) - 1))\n",
    "\n",
    "# Orders quantity (Boxes)\n",
    "data['demands'] = [0, 1, 1, 2, 4, 2, 4, 8, 8, 1, 2, 1, 2, 4, 4, 8, 8]\n",
    "# Vehicles Capacities (Boxes)\n",
    "data['vehicle_capacities'] = [15, 15, 15, 15]\n",
    "# Fleet informations\n",
    "# Number of vehicles\n",
    "data['num_vehicles'] = 4\n",
    "# Location of the depot\n",
    "data['depot'] = 0"
   ]
  },
  {
   "cell_type": "code",
   "execution_count": null,
   "metadata": {
    "collapsed": true
   },
   "outputs": [],
   "source": []
  },
  {
   "cell_type": "code",
   "execution_count": null,
   "metadata": {
    "collapsed": true
   },
   "outputs": [],
   "source": [
    "# Orders quantity (Boxes)\n",
    "data['demands'] = [0, 1, 1, 2, 4, 2, 4, 8, 6, 1, 2, 1, 2, 75, 4, 8, 8]\n",
    "# Vehicles Capacities (Boxes)\n",
    "data['vehicle_capacities'] = [15, 15, 105, 15]\n",
    "# Fleet informations\n",
    "# Number of vehicles\n",
    "data['num_vehicles'] = 4\n",
    "# Location of the depot\n",
    "data['depot'] = 0"
   ]
  },
  {
   "cell_type": "code",
   "execution_count": null,
   "metadata": {
    "collapsed": true
   },
   "outputs": [],
   "source": [
    "def distance_callback(from_index, to_index):\n",
    "    \"\"\"Returns the distance between the two nodes.\"\"\"\n",
    "    # Convert from routing variable Index to distance matrix NodeIndex.\n",
    "    from_node = manager.IndexToNode(from_index)\n",
    "    to_node = manager.IndexToNode(to_index)\n",
    "    return data['distance_matrix'][from_node][to_node]"
   ]
  },
  {
   "cell_type": "code",
   "execution_count": null,
   "metadata": {
    "collapsed": true
   },
   "outputs": [],
   "source": [
    "def demand_callback(from_index):\n",
    "    \"\"\"Returns the demand of the node.\"\"\"\n",
    "    # Convert from routing variable Index to demands NodeIndex.\n",
    "    from_node = manager.IndexToNode(from_index)\n",
    "    return data['demands'][from_node]"
   ]
  },
  {
   "cell_type": "code",
   "execution_count": null,
   "metadata": {
    "collapsed": true
   },
   "outputs": [],
   "source": [
    "# Create the routing index manager.\n",
    "manager = pywrapcp.RoutingIndexManager(len(data['distance_matrix']),\n",
    "                                       data['num_vehicles'], data['depot'])\n",
    "\n",
    "# Create Routing Model\n",
    "routing = pywrapcp.RoutingModel(manager)\n",
    "\n",
    "# Create and register a transit callback.\n",
    "transit_callback_index = routing.RegisterTransitCallback(distance_callback)\n",
    "\n",
    "# Define cost of each arc.\n",
    "routing.SetArcCostEvaluatorOfAllVehicles(transit_callback_index)\n",
    "\n",
    "# Add Capacity constraint.\n",
    "demand_callback_index = routing.RegisterUnaryTransitCallback(\n",
    "    demand_callback)\n",
    "routing.AddDimensionWithVehicleCapacity(demand_callback_index,\n",
    "    0,  # null capacity slack\n",
    "    data['vehicle_capacities'],  # vehicle maximum capacities\n",
    "    True,  # start cumul to zero\n",
    "    'Capacity')\n",
    "\n",
    "# Setting first solution heuristic.\n",
    "search_parameters = pywrapcp.DefaultRoutingSearchParameters()\n",
    "search_parameters.first_solution_strategy = (\n",
    "    routing_enums_pb2.FirstSolutionStrategy.PATH_CHEAPEST_ARC)\n",
    "search_parameters.local_search_metaheuristic = (\n",
    "    routing_enums_pb2.LocalSearchMetaheuristic.GUIDED_LOCAL_SEARCH)\n",
    "search_parameters.time_limit.FromSeconds(1)\n",
    "\n",
    "# Solve the problem.\n",
    "solution = routing.SolveWithParameters(search_parameters)"
   ]
  },
  {
   "cell_type": "code",
   "execution_count": null,
   "metadata": {},
   "outputs": [],
   "source": [
    "if solution:\n",
    "    total_distance = 0\n",
    "    total_load = 0\n",
    "    for vehicle_id in range(data['num_vehicles']):\n",
    "        index = routing.Start(vehicle_id)\n",
    "        plan_output = 'Route for driver {}:\\n'.format(vehicle_id)\n",
    "        route_distance = 0\n",
    "        route_load = 0\n",
    "        while not routing.IsEnd(index):\n",
    "            node_index = manager.IndexToNode(index)\n",
    "            route_load += data['demands'][node_index]\n",
    "            plan_output += ' {0} Parcels({1}) -> '.format(node_index, route_load)\n",
    "            previous_index = index\n",
    "            index = solution.Value(routing.NextVar(index))\n",
    "            route_distance += routing.GetArcCostForVehicle(\n",
    "                previous_index, index, vehicle_id)\n",
    "        plan_output += ' {0} Parcels({1})\\n'.format(manager.IndexToNode(index),\n",
    "                                                 route_load)\n",
    "        plan_output += 'Distance of the route: {} (m)\\n'.format(route_distance)\n",
    "        plan_output += 'Parcels Delivered: {} (parcels)\\n'.format(route_load)\n",
    "        print(plan_output)\n",
    "        total_distance += route_distance\n",
    "        total_load += route_load\n",
    "    print('Total distance of all routes: {:,} (m)'.format(total_distance))\n",
    "    print('Parcels Delivered: {:,}/{:,}'.format(total_load, sum(data['demands'])))\n",
    "else:\n",
    "    print('No Solution')"
   ]
  }
 ],
 "metadata": {
  "kernelspec": {
   "display_name": "Python 3",
   "language": "python",
   "name": "python3"
  },
  "language_info": {
   "codemirror_mode": {
    "name": "ipython",
    "version": 3
   },
   "file_extension": ".py",
   "mimetype": "text/x-python",
   "name": "python",
   "nbconvert_exporter": "python",
   "pygments_lexer": "ipython3",
   "version": "3.11.4"
  }
 },
 "nbformat": 4,
 "nbformat_minor": 2
}
